{
 "cells": [
  {
   "cell_type": "code",
   "execution_count": 1,
   "id": "dbae5ecc",
   "metadata": {},
   "outputs": [
    {
     "name": "stderr",
     "output_type": "stream",
     "text": [
      "C:\\Users\\ss97\\AppData\\Local\\Temp\\ipykernel_22984\\2587958859.py:20: DeprecationWarning: Please use `pearsonr` from the `scipy.stats` namespace, the `scipy.stats.stats` namespace is deprecated.\n",
      "  from scipy.stats.stats import pearsonr\n"
     ]
    }
   ],
   "source": [
    "# %% includes\n",
    "import os.path\n",
    "\n",
    "import numpy as np\n",
    "import pandas as pd\n",
    "import matplotlib.pyplot as plt\n",
    "import matplotlib.dates as mdates\n",
    "import csv\n",
    "import datetime as dt\n",
    "from datetime import timedelta\n",
    "from datetime import datetime\n",
    "#import tensorflow as tf\n",
    "from sklearn.preprocessing import MinMaxScaler\n",
    "from pandas import DataFrame\n",
    "from pandas import concat\n",
    "# Import Libraries and packages from Keras\n",
    "from scipy import stats\n",
    "from matplotlib.colors import ListedColormap\n",
    "from matplotlib.pyplot import figure\n",
    "from scipy.stats.stats import pearsonr\n",
    "\n",
    "\n",
    "import time\n",
    "import pylab as pl\n",
    "from IPython import display\n",
    "from tabulate import tabulate\n"
   ]
  },
  {
   "cell_type": "markdown",
   "id": "a8326e28",
   "metadata": {},
   "source": [
    "# r² : BP-corr. coeff\n",
    "\n",
    "$$ r^2 =  \\frac{\\sum_{i=1}^n (O_i- \\overline{O})(P_i- \\overline{P})} {\\sqrt{\\sum_{i=1}^n(O_i- \\overline{O})^2}\\sqrt{\\sum_{i=1}^n(P_i- \\overline{P})^2}}  $$"
   ]
  },
  {
   "cell_type": "code",
   "execution_count": 2,
   "id": "80854661",
   "metadata": {},
   "outputs": [],
   "source": [
    "def BravaisPearson_corr(observed, predicted):\n",
    "    #means\n",
    "    mean_observed = observed.mean()\n",
    "    mean_predicted = predicted.mean()\n",
    "\n",
    "    #diff between objeckt_i and mean of the objects\n",
    "    o_diff_part = (observed-mean_observed)\n",
    "    p_diff_part = (predicted-mean_predicted)\n",
    "\n",
    "    #counter\n",
    "    counter_o_p_mult = o_diff_part*p_diff_part\n",
    "    counter = np.sum(counter_o_p_mult)\n",
    "\n",
    "    #denominator\n",
    "    denominator_o_part = np.sqrt(np.sum(np.square(o_diff_part)))\n",
    "    denominator_p_part = np.sqrt(np.sum(np.square(p_diff_part)))\n",
    "    denominator = denominator_o_part*denominator_p_part\n",
    "    r_square = np.sqrt((counter/denominator)*(counter/denominator))\n",
    "    \n",
    "    return r_square"
   ]
  },
  {
   "cell_type": "markdown",
   "id": "d8be7a35",
   "metadata": {},
   "source": [
    "# E: Nash Sucliffe efficiency \n",
    "## $$ E =  1 - \\frac{\\sum_{i=1}^n (O_i- P_i)^2} {\\sum_{i=1}^n (O_i- \\overline{O})^2}  $$\n",
    "#### $$E \\in [1: -\\infty )$$ $$ 1: total fit$$  $$-\\infty : no fit$$ $$ E < 0 : \"worse\\_than\\_average\"$$"
   ]
  },
  {
   "cell_type": "code",
   "execution_count": 3,
   "id": "a4f2ebf3",
   "metadata": {},
   "outputs": [],
   "source": [
    "def NSE(observed, predicted):\n",
    "\n",
    "    mean_observed = observed.mean()\n",
    "\n",
    "    #counter\n",
    "    counter = np.sum((np.square(observed-predicted)))\n",
    "\n",
    "    #denominator\n",
    "    denominator = np.sum(np.square(observed-mean_observed))\n",
    "\n",
    "    #E\n",
    "\n",
    "    E = 1-counter/denominator\n",
    "\n",
    "    return E"
   ]
  },
  {
   "cell_type": "markdown",
   "id": "3e1a212f",
   "metadata": {},
   "source": [
    "# d: Index of agreement\n",
    "\n",
    "## $$ d =1-  \\frac{\\sum_{i=1}^n (O_i- P_i)^2} {\\sum_{i=1}^n (|P_i- \\overline{O}|+|P_i- \\overline{O}|)^2}  $$\n",
    "\n",
    "### $$d \\in [1: 0 ]$$ $$ 1: total fit$$  $$0: no fit$$ \n"
   ]
  },
  {
   "cell_type": "code",
   "execution_count": 4,
   "id": "b3c013ea",
   "metadata": {},
   "outputs": [],
   "source": [
    "def IoD(observed, predicted):\n",
    "\n",
    "    mean_observed = observed.mean()\n",
    "\n",
    "    #counter\n",
    "    counter = np.sum(np.square(observed-predicted))\n",
    "\n",
    "    #denominator\n",
    "    denominator = np.sum(np.square(abs(predicted-mean_observed) + abs(observed-mean_observed)))\n",
    "\n",
    "    #d\n",
    "    d = 1 - counter/denominator\n",
    "    \n",
    "    return d\n"
   ]
  },
  {
   "cell_type": "markdown",
   "id": "b12b71a7",
   "metadata": {},
   "source": [
    "# modified E\n",
    "## $$ E_{mod} =  1 - \\frac{\\sum_{i=1}^n |O_i- P_i|^J} {\\sum_{i=1}^n |O_i- \\overline{O}|^J}  $$\n"
   ]
  },
  {
   "cell_type": "code",
   "execution_count": 5,
   "id": "3cb87c30",
   "metadata": {},
   "outputs": [],
   "source": [
    "def NSE_mod(observed, predicted, J):\n",
    "\n",
    "\n",
    "    mean_observed = observed.mean()\n",
    "\n",
    "    #counter\n",
    "    counter = np.sum(pow(abs(observed-predicted), J))\n",
    "\n",
    "    #denominator\n",
    "    denominator = np.sum(pow(abs(observed-mean_observed), J))\n",
    "\n",
    "    #E\n",
    "\n",
    "    E = 1-counter/denominator\n",
    "\n",
    "    return E"
   ]
  },
  {
   "cell_type": "markdown",
   "id": "def6c5d7",
   "metadata": {},
   "source": [
    "# modified d:\n",
    "\n",
    "## $$ d_{mod} = 1- \\frac{\\sum_{i=1}^n |O_i- P_i|^J} {\\sum_{i=1}^n (|P_i- \\overline{O}|+|P_i- \\overline{O}|)^J}  $$\n"
   ]
  },
  {
   "cell_type": "code",
   "execution_count": 6,
   "id": "4ed864a3",
   "metadata": {},
   "outputs": [],
   "source": [
    "def IoD_mod(observed, predicted, J):\n",
    "\n",
    "    mean_observed = observed.mean()\n",
    "\n",
    "    #counter\n",
    "    counter = np.sum(pow(abs(observed-predicted), J))\n",
    "\n",
    "    #denominator\n",
    "    denominator = np.sum(pow((abs(predicted-mean_observed) + abs(observed-mean_observed)), J))\n",
    "\n",
    "\n",
    "\n",
    "    #d\n",
    "    d = 1 - counter/denominator\n",
    "\n",
    "    return d\n"
   ]
  },
  {
   "cell_type": "markdown",
   "id": "8b76a107",
   "metadata": {},
   "source": [
    "# $$E_{rel}$$\n",
    "## $$ E_{rel} =  1 - \\frac{\\sum_{i=1}^n (\\frac{ O_i- P_i}{O_i})^2} {\\sum_{i=1}^n (\\frac{ O_i- \\overline{O}}{\\overline{O}})^2}  $$\n"
   ]
  },
  {
   "cell_type": "code",
   "execution_count": 7,
   "id": "7c769503",
   "metadata": {},
   "outputs": [],
   "source": [
    "def NSE_rel(observed, predicted):\n",
    "\n",
    "    mean_observed = observed.mean()\n",
    "\n",
    "    # counter\n",
    "    counter = np.sum(pow( (observed-predicted)  / observed ,2))\n",
    "\n",
    "    #denominator\n",
    "    denominator = np.sum(pow( (observed-mean_observed)  / mean_observed ,2))\n",
    "\n",
    "    E_rel = 1 - (counter/denominator)\n",
    "\n",
    "    return E_rel"
   ]
  },
  {
   "cell_type": "markdown",
   "id": "c27986e9",
   "metadata": {},
   "source": [
    "# $$d_{rel}$$\n",
    "\n",
    "## $$ d_{rel} =1-  \\frac{\\sum_{i=1}^n \\frac{(O_i- P_i)^2}{O_i}} {\\sum_{i=1}^n (\\frac{|P_i- \\overline{O}|+|P_i- \\overline{O}|}{\\overline{O}})^2}  $$\n"
   ]
  },
  {
   "cell_type": "code",
   "execution_count": 8,
   "id": "27666de1",
   "metadata": {},
   "outputs": [],
   "source": [
    "def  IoD_rel(observed, predicted):\n",
    "    mean_observed = observed.mean()\n",
    "\n",
    "\n",
    "    #counter\n",
    "    counter = np.sum(pow((observed-predicted)/observed,2))\n",
    "    #denominator\n",
    "    denominator = np.sum(pow(((abs(predicted-mean_observed)+abs(observed-mean_observed))/mean_observed),2))\n",
    "    #d_rel\n",
    "    d_rel =1- counter / denominator\n",
    "    return d_rel"
   ]
  },
  {
   "cell_type": "markdown",
   "id": "d4f92ba2",
   "metadata": {},
   "source": [
    "### calling all functions"
   ]
  },
  {
   "cell_type": "code",
   "execution_count": 9,
   "id": "24b49c75",
   "metadata": {},
   "outputs": [],
   "source": [
    "def execute_evaluation(observed, predicted, J):\n",
    "    BPC_loc = pearsonr(observed, predicted)[0] # can also become negative since used from scipy\n",
    "    NSE_loc = NSE(observed, predicted)\n",
    "    IoD_loc = IoD(observed, predicted)\n",
    "    NSE_mod_loc = NSE_mod(observed, predicted, J)\n",
    "    IoD_mod_loc = IoD_mod(observed, predicted, J)\n",
    "    NSE_rel_loc = NSE_rel(observed, predicted)\n",
    "    IoD_rel_loc = IoD_rel(observed, predicted)\n",
    "    return BPC_loc, NSE_loc,IoD_loc, NSE_mod_loc, IoD_mod_loc, NSE_rel_loc, IoD_rel_loc\n",
    "\n",
    "def name_values(vall_array):\n",
    "    vall_list = list([\n",
    "                     [\"BravaisPearson_corr\",vall_array[0]],\n",
    "                     [\"NSE\",vall_array[1]],\n",
    "                     [\"IoD\",vall_array[2]],\n",
    "                     [\"NSE_mod\",vall_array[3]],\n",
    "                     [\"IoD_mod\",vall_array[4]],\n",
    "                     [\"NSE_rel\",vall_array[5]],\n",
    "                     [\"IoD_rel\",vall_array[6]]\n",
    "    ])\n",
    "    return vall_list\n",
    "    "
   ]
  },
  {
   "cell_type": "code",
   "execution_count": 10,
   "id": "3b06ce18",
   "metadata": {},
   "outputs": [],
   "source": [
    "def read_csv(path):\n",
    "    return pd.read_csv(path, delimiter=\",\", engine=\"python\")"
   ]
  },
  {
   "cell_type": "code",
   "execution_count": 11,
   "id": "96c0be03",
   "metadata": {},
   "outputs": [],
   "source": [
    "def overallMetricsFramework(foldername):\n",
    "    hours = [2, 3, 4, 8, 12]\n",
    "    J_mod = 3\n",
    "    Mesurement_df = pd.DataFrame(index = [\"BravaisPearson_corr\", \"(E)NSE\", \"(d)IoA\", f\"(E)NSE_mod_J={J_mod}\", f\"(d)IoA_mod_J={J_mod}\", \"(E)NSE_rel\", \"(d)IoA_rel\"], columns =[])\n",
    "    \n",
    "    for h in hours:\n",
    "        df_h_origin = read_csv(f\"../final results/{foldername}/Qualitative/{h}hrs/forecasts_{h}h.csv\")\n",
    "        df_h = (df_h_origin.copy()).dropna()\n",
    "        comparison_df = execute_evaluation(observed = df_h[\"measured\"] , predicted = df_h[\"predicted\"], J = J_mod)  \n",
    "        Mesurement_df[f'{h}h prediction Sennheutte'] = comparison_df\n",
    "    \n",
    "    print(f\"\\n~~~~~~~~~~~~ {i} ~~~~~~~~~~~~\\n\")\n",
    "    print(tabulate(Mesurement_df , headers=\"keys\", tablefmt=\"psql\"))\n",
    "    return Mesurement_df"
   ]
  },
  {
   "cell_type": "markdown",
   "id": "ba9b529c",
   "metadata": {},
   "source": [
    "# Results"
   ]
  },
  {
   "cell_type": "code",
   "execution_count": 12,
   "id": "d33dd3af",
   "metadata": {},
   "outputs": [
    {
     "name": "stdout",
     "output_type": "stream",
     "text": [
      "\n",
      "~~~~~~~~~~~~ STRPM ~~~~~~~~~~~~\n",
      "\n",
      "+---------------------+----------------------------+----------------------------+----------------------------+----------------------------+-----------------------------+\n",
      "|                     |   2h prediction Sennheutte |   3h prediction Sennheutte |   4h prediction Sennheutte |   8h prediction Sennheutte |   12h prediction Sennheutte |\n",
      "|---------------------+----------------------------+----------------------------+----------------------------+----------------------------+-----------------------------|\n",
      "| BravaisPearson_corr |                  0.170208  |                  0.217053  |                  0.151822  |                  0.13388   |                   0.19093   |\n",
      "| (E)NSE              |                 -0.0362282 |                  0.0233174 |                 -0.0726325 |                 -0.0499517 |                  -0.0407461 |\n",
      "| (d)IoA              |                  0.322205  |                  0.319001  |                  0.332424  |                  0.278556  |                   0.332353  |\n",
      "| (E)NSE_mod_J=3      |                  0.193083  |                  0.248852  |                  0.158494  |                  0.0906348 |                   0.230459  |\n",
      "| (d)IoA_mod_J=3      |                  0.536111  |                  0.564229  |                  0.520258  |                  0.402297  |                   0.599436  |\n",
      "| (E)NSE_rel          |                 -1.04199   |                 -1.00083   |                 -1.09032   |                 -0.988051  |                  -1.28942   |\n",
      "| (d)IoA_rel          |                 -0.335664  |                 -0.395097  |                 -0.300958  |                 -0.366033  |                  -0.468683  |\n",
      "+---------------------+----------------------------+----------------------------+----------------------------+----------------------------+-----------------------------+\n",
      "\n",
      "~~~~~~~~~~~~ Baseline ~~~~~~~~~~~~\n",
      "\n",
      "+---------------------+----------------------------+----------------------------+----------------------------+----------------------------+-----------------------------+\n",
      "|                     |   2h prediction Sennheutte |   3h prediction Sennheutte |   4h prediction Sennheutte |   8h prediction Sennheutte |   12h prediction Sennheutte |\n",
      "|---------------------+----------------------------+----------------------------+----------------------------+----------------------------+-----------------------------|\n",
      "| BravaisPearson_corr |                   0.990367 |                   0.985152 |                   0.979919 |                   0.956549 |                    0.933655 |\n",
      "| (E)NSE              |                   0.980734 |                   0.970304 |                   0.959838 |                   0.913097 |                    0.867307 |\n",
      "| (d)IoA              |                   0.995162 |                   0.992525 |                   0.989866 |                   0.977826 |                    0.965763 |\n",
      "| (E)NSE_mod_J=3      |                   0.98476  |                   0.973763 |                   0.96161  |                   0.888618 |                    0.820633 |\n",
      "| (d)IoA_mod_J=3      |                   0.998045 |                   0.99658  |                   0.99492  |                   0.984266 |                    0.973349 |\n",
      "| (E)NSE_rel          |                   0.993762 |                   0.991197 |                   0.988609 |                   0.979436 |                    0.971842 |\n",
      "| (d)IoA_rel          |                   0.998434 |                   0.997784 |                   0.997126 |                   0.994753 |                    0.992735 |\n",
      "+---------------------+----------------------------+----------------------------+----------------------------+----------------------------+-----------------------------+\n",
      "\n",
      "~~~~~~~~~~~~ STRPMr ~~~~~~~~~~~~\n",
      "\n",
      "+---------------------+----------------------------+----------------------------+----------------------------+----------------------------+-----------------------------+\n",
      "|                     |   2h prediction Sennheutte |   3h prediction Sennheutte |   4h prediction Sennheutte |   8h prediction Sennheutte |   12h prediction Sennheutte |\n",
      "|---------------------+----------------------------+----------------------------+----------------------------+----------------------------+-----------------------------|\n",
      "| BravaisPearson_corr |                   0.99067  |                   0.986251 |                   0.982653 |                   0.964799 |                    0.951575 |\n",
      "| (E)NSE              |                   0.981051 |                   0.972068 |                   0.964273 |                   0.925621 |                    0.898455 |\n",
      "| (d)IoA              |                   0.995277 |                   0.993032 |                   0.991144 |                   0.981725 |                    0.974878 |\n",
      "| (E)NSE_mod_J=3      |                   0.986246 |                   0.977026 |                   0.969526 |                   0.919208 |                    0.884328 |\n",
      "| (d)IoA_mod_J=3      |                   0.998265 |                   0.997063 |                   0.996136 |                   0.98952  |                    0.984625 |\n",
      "| (E)NSE_rel          |                   0.987704 |                   0.985016 |                   0.978629 |                   0.962022 |                    0.960952 |\n",
      "| (d)IoA_rel          |                   0.996935 |                   0.996262 |                   0.994703 |                   0.990669 |                    0.99034  |\n",
      "+---------------------+----------------------------+----------------------------+----------------------------+----------------------------+-----------------------------+\n"
     ]
    }
   ],
   "source": [
    "folder = ['STRPM', 'Baseline', 'STRPMr']\n",
    "for i in folder:\n",
    "    framework_result = overallMetricsFramework(i)\n",
    "    framework_result.to_csv(f\"../final results/{i}/Quantitative/overall_metrics_{i}.csv\", sep =\",\")"
   ]
  }
 ],
 "metadata": {
  "kernelspec": {
   "display_name": "Python 3",
   "language": "python",
   "name": "python3"
  },
  "language_info": {
   "codemirror_mode": {
    "name": "ipython",
    "version": 3
   },
   "file_extension": ".py",
   "mimetype": "text/x-python",
   "name": "python",
   "nbconvert_exporter": "python",
   "pygments_lexer": "ipython3",
   "version": "3.11.7"
  }
 },
 "nbformat": 4,
 "nbformat_minor": 5
}
