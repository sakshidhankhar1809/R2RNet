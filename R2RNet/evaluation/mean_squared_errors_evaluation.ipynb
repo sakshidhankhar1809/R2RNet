{
 "cells": [
  {
   "cell_type": "markdown",
   "metadata": {},
   "source": [
    "#### Import necessary libraries"
   ]
  },
  {
   "cell_type": "code",
   "execution_count": 1,
   "metadata": {},
   "outputs": [],
   "source": [
    "import numpy as np\n",
    "import pandas as pd\n",
    "from sklearn.metrics import mean_squared_error"
   ]
  },
  {
   "cell_type": "markdown",
   "metadata": {},
   "source": [
    "#### Load files"
   ]
  },
  {
   "cell_type": "code",
   "execution_count": 2,
   "metadata": {},
   "outputs": [],
   "source": [
    "def read_csv(path, typ = True):\n",
    "    if typ == True:\n",
    "        return pd.read_csv(path, delimiter=\",\", engine=\"python\", index_col='Unnamed: 0')\n",
    "    return pd.read_csv(path, delimiter=\",\", engine=\"python\")"
   ]
  },
  {
   "cell_type": "code",
   "execution_count": 3,
   "metadata": {},
   "outputs": [],
   "source": [
    "foldername = 'STRPMr'\n",
    "\n",
    "pred2 = read_csv(f\"../final results/{foldername}/Qualitative/2hrs/predictions_2h.csv\")\n",
    "pred3 = read_csv(f\"../final results/{foldername}/Qualitative/3hrs/predictions_3h.csv\")\n",
    "pred4 = read_csv(f\"../final results/{foldername}/Qualitative/4hrs/predictions_4h.csv\")\n",
    "pred8 = read_csv(f\"../final results/{foldername}/Qualitative/8hrs/predictions_8h.csv\")\n",
    "pred12 = read_csv(f\"../final results/{foldername}/Qualitative/12hrs/predictions_12h.csv\")\n",
    "\n",
    "strpmr2 = read_csv(f\"../final results/{foldername}/Qualitative/2hrs/forecasts_2h.csv\")\n",
    "strpmr3 = read_csv(f\"../final results/{foldername}/Qualitative/3hrs/forecasts_3h.csv\")\n",
    "strpmr4 = read_csv(f\"../final results/{foldername}/Qualitative/4hrs/forecasts_4h.csv\")\n",
    "strpmr8 = read_csv(f\"../final results/{foldername}/Qualitative/8hrs/forecasts_8h.csv\")\n",
    "strpmr12 = read_csv(f\"../final results/{foldername}/Qualitative/12hrs/forecasts_12h.csv\")"
   ]
  },
  {
   "cell_type": "code",
   "execution_count": 4,
   "metadata": {},
   "outputs": [],
   "source": [
    "foldername = 'STRPM'\n",
    "strpm2 = read_csv(f\"../final results/{foldername}/Qualitative/2hrs/forecasts_2h.csv\", False)\n",
    "strpm3 = read_csv(f\"../final results/{foldername}/Qualitative/3hrs/forecasts_3h.csv\", False)\n",
    "strpm4 = read_csv(f\"../final results/{foldername}/Qualitative/4hrs/forecasts_4h.csv\", False)\n",
    "strpm8 = read_csv(f\"../final results/{foldername}/Qualitative/8hrs/forecasts_8h.csv\", False)\n",
    "strpm12 = read_csv(f\"../final results/{foldername}/Qualitative/12hrs/forecasts_12h.csv\", False)"
   ]
  },
  {
   "cell_type": "code",
   "execution_count": 5,
   "metadata": {},
   "outputs": [],
   "source": [
    "foldername = 'Baseline'\n",
    "baseline2 = read_csv(f\"../final results/{foldername}/Qualitative/2hrs/forecasts_2h.csv\")\n",
    "baseline3 = read_csv(f\"../final results/{foldername}/Qualitative/3hrs/forecasts_3h.csv\")\n",
    "baseline4 = read_csv(f\"../final results/{foldername}/Qualitative/4hrs/forecasts_4h.csv\")\n",
    "baseline8 = read_csv(f\"../final results/{foldername}/Qualitative/8hrs/forecasts_8h.csv\")\n",
    "baseline12 = read_csv(f\"../final results/{foldername}/Qualitative/12hrs/forecasts_12h.csv\")"
   ]
  },
  {
   "cell_type": "code",
   "execution_count": 6,
   "metadata": {},
   "outputs": [],
   "source": [
    "# List of all models forecasted timeseries for different forecasting horizons (2-12 hours)\n",
    "strpm = [strpm2, strpm3, strpm4, strpm8, strpm12]\n",
    "baseline = [baseline2, baseline3, baseline4, baseline8, baseline12]\n",
    "pred_strpmr = [pred2, pred3, pred4, pred8, pred12]\n",
    "strpmr = [strpmr2, strpmr3, strpmr3, strpmr4, strpmr8, strpmr12]"
   ]
  },
  {
   "cell_type": "markdown",
   "metadata": {},
   "source": [
    "### MSE"
   ]
  },
  {
   "cell_type": "code",
   "execution_count": 7,
   "metadata": {},
   "outputs": [],
   "source": [
    "def calculate_mse(ytrue, ypred):\n",
    "    return np.round(mean_squared_error(ytrue, ypred),4)\n",
    "\n",
    "\n",
    "def calculateMSE(folder, str):\n",
    "    hours = [2, 3, 4, 8, 12]\n",
    "    df = pd.DataFrame(index =[str], columns =[])\n",
    "    i=0\n",
    "    for h in hours:\n",
    "        mse = calculate_mse(folder[i]['measured'], folder[i]['predicted'])\n",
    "        df[f'{h}hrs'] = mse\n",
    "        i+=1\n",
    "\n",
    "    return df"
   ]
  },
  {
   "cell_type": "code",
   "execution_count": 8,
   "metadata": {},
   "outputs": [
    {
     "name": "stderr",
     "output_type": "stream",
     "text": [
      "C:\\Users\\ss97\\AppData\\Local\\Temp\\ipykernel_30512\\3620635539.py:9: FutureWarning: The behavior of DataFrame concatenation with empty or all-NA entries is deprecated. In a future version, this will no longer exclude empty or all-NA columns when determining the result dtypes. To retain the old behavior, exclude the relevant entries before the concat operation.\n",
      "  MSE = pd.concat([MSE, mse])\n"
     ]
    },
    {
     "data": {
      "text/html": [
       "<div>\n",
       "<style scoped>\n",
       "    .dataframe tbody tr th:only-of-type {\n",
       "        vertical-align: middle;\n",
       "    }\n",
       "\n",
       "    .dataframe tbody tr th {\n",
       "        vertical-align: top;\n",
       "    }\n",
       "\n",
       "    .dataframe thead th {\n",
       "        text-align: right;\n",
       "    }\n",
       "</style>\n",
       "<table border=\"1\" class=\"dataframe\">\n",
       "  <thead>\n",
       "    <tr style=\"text-align: right;\">\n",
       "      <th></th>\n",
       "      <th>2hrs</th>\n",
       "      <th>3hrs</th>\n",
       "      <th>4hrs</th>\n",
       "      <th>8hrs</th>\n",
       "      <th>12hrs</th>\n",
       "    </tr>\n",
       "  </thead>\n",
       "  <tbody>\n",
       "    <tr>\n",
       "      <th>STRPM</th>\n",
       "      <td>39.2940</td>\n",
       "      <td>37.0361</td>\n",
       "      <td>40.6746</td>\n",
       "      <td>39.8148</td>\n",
       "      <td>39.4660</td>\n",
       "    </tr>\n",
       "    <tr>\n",
       "      <th>Baseline</th>\n",
       "      <td>0.7306</td>\n",
       "      <td>1.1261</td>\n",
       "      <td>1.5230</td>\n",
       "      <td>3.2955</td>\n",
       "      <td>5.0322</td>\n",
       "    </tr>\n",
       "    <tr>\n",
       "      <th>STRPMr</th>\n",
       "      <td>0.7186</td>\n",
       "      <td>1.0592</td>\n",
       "      <td>1.0592</td>\n",
       "      <td>1.3548</td>\n",
       "      <td>2.8206</td>\n",
       "    </tr>\n",
       "  </tbody>\n",
       "</table>\n",
       "</div>"
      ],
      "text/plain": [
       "             2hrs     3hrs     4hrs     8hrs    12hrs\n",
       "STRPM     39.2940  37.0361  40.6746  39.8148  39.4660\n",
       "Baseline   0.7306   1.1261   1.5230   3.2955   5.0322\n",
       "STRPMr     0.7186   1.0592   1.0592   1.3548   2.8206"
      ]
     },
     "execution_count": 8,
     "metadata": {},
     "output_type": "execute_result"
    }
   ],
   "source": [
    "folder = [strpm, baseline, strpmr]\n",
    "index = [\"STRPM\", \"Baseline\", \"STRPMr\"]\n",
    "MSE = pd.DataFrame(columns=[\"2hrs\", \"3hrs\", \"4hrs\", \"8hrs\", \"12hrs\"])\n",
    "\n",
    "ind = 0\n",
    "for i in folder:\n",
    "    mse = calculateMSE(i, index[ind])\n",
    "    ind+=1\n",
    "    MSE = pd.concat([MSE, mse])\n",
    "\n",
    "MSE.to_csv(f\"../final results/MSE_Goslar.csv\", sep =\",\")  \n",
    "MSE"
   ]
  }
 ],
 "metadata": {
  "kernelspec": {
   "display_name": "Python 3",
   "language": "python",
   "name": "python3"
  },
  "language_info": {
   "codemirror_mode": {
    "name": "ipython",
    "version": 3
   },
   "file_extension": ".py",
   "mimetype": "text/x-python",
   "name": "python",
   "nbconvert_exporter": "python",
   "pygments_lexer": "ipython3",
   "version": "3.11.7"
  }
 },
 "nbformat": 4,
 "nbformat_minor": 2
}
